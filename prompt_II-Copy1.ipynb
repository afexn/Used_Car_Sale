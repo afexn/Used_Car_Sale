{
 "cells": [
  {
   "cell_type": "markdown",
   "metadata": {},
   "source": [
    "# What drives the price of a car?\n",
    "\n",
    "![](images/kurt.jpeg)"
   ]
  },
  {
   "cell_type": "markdown",
   "metadata": {},
   "source": [
    "**OVERVIEW**\n",
    "\n",
    "In this application, you will explore a dataset from kaggle that contains information on 3 million used cars.  Your goal is to understand what factors make a car more or less expensive.  As a result of your analysis, you should provide clear recommendations to your client -- a used car dealership -- as to what consumers value in a used car."
   ]
  },
  {
   "cell_type": "markdown",
   "metadata": {},
   "source": [
    "### CRISP-DM Framework\n",
    "\n",
    "<center>\n",
    "    <img src = images/crisp.png width = 50%/>\n",
    "</center>\n",
    "\n",
    "\n",
    "To frame the task, throughout our practical applications we will refer back to a standard process in industry for data projects called CRISP-DM.  This process provides a framework for working through a data problem.  Your first step in this application will be to read through a brief overview of CRISP-DM [here](https://mo-pcco.s3.us-east-1.amazonaws.com/BH-PCMLAI/module_11/readings_starter.zip).  After reading the overview, answer the questions below."
   ]
  },
  {
   "cell_type": "markdown",
   "metadata": {},
   "source": [
    "### Business Understanding\n",
    "\n",
    "From a business perspective, we are tasked with identifying key drivers for used car prices.  In the CRISP-DM overview, we are asked to convert this business framing to a data problem definition.  Using a few sentences, reframe the task as a data task with the appropriate technical vocabulary. "
   ]
  },
  {
   "cell_type": "code",
   "execution_count": null,
   "metadata": {},
   "outputs": [],
   "source": []
  },
  {
   "cell_type": "markdown",
   "metadata": {},
   "source": [
    "# a. characteristcs\n",
    "\n",
    "The mileage and condition of a used vehicle are the most important elements,\n",
    "and engine size and horsepower are favorably connected with all of these characteristics:\n",
    "\n",
    "\n",
    "- Year model\n",
    "- Odometer\n",
    "- Price\n",
    "- manufacturer\n",
    "- Transmission of automated vs. manual gearbox \n",
    "\n",
    "\n",
    "which are the most relevant automotive specifications for predicting car pricing.\n"
   ]
  },
  {
   "cell_type": "code",
   "execution_count": null,
   "metadata": {},
   "outputs": [],
   "source": []
  },
  {
   "cell_type": "markdown",
   "metadata": {},
   "source": [
    "# b. Framing\n",
    "\n",
    "Framing is a method of organizing that entails explaining and presenting the context of the problem in order to grab the attention of our audience. \n",
    "\n",
    "- Define your issue and provide a solution\n",
    "- Remove unneccessary data values\n",
    "\n",
    "- recognize the potential customers"
   ]
  },
  {
   "cell_type": "code",
   "execution_count": null,
   "metadata": {},
   "outputs": [],
   "source": []
  },
  {
   "cell_type": "markdown",
   "metadata": {},
   "source": [
    "# c. Framing process\n",
    "\n",
    "The framing is the process of establishing a reality that can be explained by specified circumstances. It is a potent instrument for impacting people's decisions and actions.\n",
    "\n",
    "- Old solutions are all being replaced immediately\n",
    "- organize & clean data\n",
    "\n",
    "- actively developing new model\n",
    "- analyze essential elements\n",
    "- information that is essential"
   ]
  },
  {
   "cell_type": "code",
   "execution_count": null,
   "metadata": {},
   "outputs": [],
   "source": []
  },
  {
   "cell_type": "markdown",
   "metadata": {},
   "source": [
    "### Data Understanding\n",
    "\n",
    "After considering the business understanding, we want to get familiar with our data.  Write down some steps that you would take to get to know the dataset and identify any quality issues within.  Take time to get to know the dataset and explore what information it contains and how this could be used to inform your business understanding."
   ]
  },
  {
   "cell_type": "code",
   "execution_count": null,
   "metadata": {},
   "outputs": [],
   "source": []
  },
  {
   "cell_type": "markdown",
   "metadata": {},
   "source": [
    "# i. data cycle\n",
    "\n",
    "Extracting information and understanding it with tables and visualizations that can be structured is what data understanding entails.\n",
    "\n",
    "- Begin by gathering information\n",
    "-  Select Data and model \n",
    "- Find problems affecting data quality & minimize error\n",
    "- To develop hypotheses about concealed information\n",
    "- data processing and reformatting\n",
    "- Conclusion"
   ]
  },
  {
   "cell_type": "code",
   "execution_count": null,
   "metadata": {},
   "outputs": [],
   "source": []
  },
  {
   "cell_type": "markdown",
   "metadata": {},
   "source": [
    "### Data Preparation\n",
    "\n",
    "After our initial exploration and fine tuning of the business understanding, it is time to construct our final dataset prior to modeling.  Here, we want to make sure to handle any integrity issues and cleaning, the engineering of new features, any transformations that we believe should happen (scaling, logarithms, normalization, etc.), and general preparation for modeling with `sklearn`. "
   ]
  },
  {
   "cell_type": "code",
   "execution_count": 208,
   "metadata": {},
   "outputs": [],
   "source": [
    "import pandas as pd\n",
    "import numpy as np\n",
    "import matplotlib.pyplot as plt\n",
    "import seaborn as sns\n",
    "import plotly.express as px"
   ]
  },
  {
   "cell_type": "code",
   "execution_count": 209,
   "metadata": {},
   "outputs": [],
   "source": [
    "from sklearn.linear_model import LinearRegression, HuberRegressor, Lasso, Ridge\n",
    "from sklearn.pipeline import Pipeline\n",
    "from sklearn.preprocessing import StandardScaler, PolynomialFeatures, OneHotEncoder\n",
    "from sklearn.feature_selection import SequentialFeatureSelector, SelectFromModel"
   ]
  },
  {
   "cell_type": "code",
   "execution_count": 210,
   "metadata": {},
   "outputs": [],
   "source": [
    "from sklearn.metrics import mean_squared_error \n",
    "from sklearn.model_selection import train_test_split"
   ]
  },
  {
   "cell_type": "code",
   "execution_count": 211,
   "metadata": {},
   "outputs": [],
   "source": [
    "from sklearn import set_config\n",
    "set_config(display=\"diagram\") #setting this will display your pipelines as seen above\n",
    "import warnings\n",
    "warnings.filterwarnings('ignore')"
   ]
  },
  {
   "cell_type": "code",
   "execution_count": 212,
   "metadata": {},
   "outputs": [],
   "source": [
    "# let's work on a smalled data for optimization reasons, we will remove this later\n",
    "# assume the vehicles dataset as df\n",
    "df = pd.read_csv(\"vehicles.csv\", index_col=\"id\")\n"
   ]
  },
  {
   "cell_type": "code",
   "execution_count": 213,
   "metadata": {},
   "outputs": [],
   "source": [
    "# to drop replace the zero value in price column\n",
    "df['price'].replace(0, None, inplace = True)\n"
   ]
  },
  {
   "cell_type": "code",
   "execution_count": 214,
   "metadata": {},
   "outputs": [],
   "source": [
    "# choose four columns to start the dataset for minimizing the error abd drop NAN values in the data\n",
    "df = df[[\"manufacturer\",\"cylinders\", \"odometer\", \"year\", \"price\"]]\n",
    "#df.isnull().sum()\n"
   ]
  },
  {
   "cell_type": "code",
   "execution_count": 215,
   "metadata": {},
   "outputs": [],
   "source": [
    "df['cylinders'].replace('other', None, inplace = True)\n",
    "df = df.dropna()\n",
    "# df['cylinders'].unique()\n",
    "# df.isnull().sum()\n"
   ]
  },
  {
   "cell_type": "markdown",
   "metadata": {},
   "source": [
    "# i. Remove the outlier records\n",
    "Using the percentile or quantile equation calculation, outlier data records are removed. This can help us find the outlier mistake and reduce the discrepancy in our linear regression.\n",
    "\n",
    "This outlier assists us in removing a significant amount of $0 values from a car that do not exist.\n"
   ]
  },
  {
   "cell_type": "code",
   "execution_count": 216,
   "metadata": {},
   "outputs": [],
   "source": [
    "#Finding outliers in all the numerical columns with 1.5 IQR rule and removing the outlier records \n",
    "col_numeric = [\"odometer\", \"year\", \"price\"]\n",
    "\n",
    "for col in col_numeric: \n",
    "    q1 = df[col].quantile(0.25)\n",
    "    q3 = df[col].quantile(0.75)\n",
    "    iqr = q3-q1\n",
    "    range_low  = q1-1.5*iqr\n",
    "    range_high = q3+1.5*iqr\n",
    "    df = df.loc[(df[col] > range_low) & (df[col] < range_high)]\n",
    "\n",
    "#df.shape #the size of the sample size"
   ]
  },
  {
   "cell_type": "markdown",
   "metadata": {},
   "source": [
    "# ii. The bar plot of the Manufacturer column category\n",
    "The data shows ford vehicles made the higher number of sela used car, and almost the morgan, aston-martin, and ferrari non-existence.\n",
    "plot using the cylinders categorical column shows the vehilces with 4,6 & 8 cylinders dominate the dataset of used cars.\n"
   ]
  },
  {
   "cell_type": "code",
   "execution_count": 217,
   "metadata": {},
   "outputs": [],
   "source": [
    "# Listing categorical columns for checking data imbalance and plotting them\n",
    "\n",
    "# col_category = [\"manufacturer\", \"cylinders\"]\n",
    "\n",
    "# k=0\n",
    "# plt.figure(figsize=(45,25))\n",
    "# for col in col_category:    \n",
    "#     k=k+1\n",
    "#     plt.subplot(4, 3,k)    \n",
    "#     df[col].value_counts().plot(kind='bar');\n",
    "#     plt.title(col)\n"
   ]
  },
  {
   "cell_type": "markdown",
   "metadata": {},
   "source": [
    "# iii. Pairplot\n",
    "The graph indicates that the column types listed above are interdependent on one another.\n",
    "year vs price higher correlation, "
   ]
  },
  {
   "cell_type": "code",
   "execution_count": 218,
   "metadata": {
    "scrolled": true
   },
   "outputs": [],
   "source": [
    "# Visualising the numerical variables\n",
    "\n",
    "# plt.figure(figsize=(12,12))\n",
    "# sns.pairplot(df[col_numeric])\n",
    "# plt.show()"
   ]
  },
  {
   "cell_type": "code",
   "execution_count": 219,
   "metadata": {},
   "outputs": [],
   "source": [
    "#converts the variable out of categorical data, use as an indicator for the specific columns\n",
    "df = pd.get_dummies(df,drop_first=True)"
   ]
  },
  {
   "cell_type": "markdown",
   "metadata": {},
   "source": [
    "# iv. outlier distribution\n",
    "The price distribution plot is skewed to the right, indicating that the greater the car's price, the less in need it is, and that the higher price distribution is in the range of 0 to 10000 price marks.\n",
    "Outliers are a great issue for OLS, thus we must deal with them in some way,Here, the outliers are situated around the lower prices (left side of the graph)\n",
    "\n"
   ]
  },
  {
   "cell_type": "code",
   "execution_count": 220,
   "metadata": {},
   "outputs": [],
   "source": [
    "# # This makes it very easy to spot anomalies, such as outliers\n",
    "\n",
    "# plt.figure(figsize=[11,5])\n",
    "# sns.distplot(df['price'])\n",
    "# plt.title(' Car Price Distribution ')"
   ]
  },
  {
   "cell_type": "markdown",
   "metadata": {},
   "source": [
    "# v. Subplot of different parameters distribution\n",
    "1. The first plot, on the left, displays the car year distribution, which is a left-skewed distribution of vehicle years.\n",
    "2. The second plot, on the middle, displays the vehicle mileage distribution, which is skewed to the right, with a greater distribution of car miles between 50000 and 100000.\n",
    "\n",
    "3. The third plot on the right displays the vehicle transmission distribution, which is skewed to the right. A large number of cars are shown with lower value prices, with an average price of $10000.\n"
   ]
  },
  {
   "cell_type": "code",
   "execution_count": 221,
   "metadata": {},
   "outputs": [
    {
     "data": {
      "text/plain": [
       "Text(0.5, 1.0, 'Transmission Distribution')"
      ]
     },
     "execution_count": 221,
     "metadata": {},
     "output_type": "execute_result"
    },
    {
     "data": {
      "image/png": "[encoded data removed]",
      "text/plain": [
       "<Figure size 1224x360 with 3 Axes>"
      ]
     },
     "metadata": {
      "needs_background": "light"
     },
     "output_type": "display_data"
    }
   ],
   "source": [
    "# car and mileage Distribution Plot\n",
    "\n",
    "plt.figure(figsize=[17,5])\n",
    "plt.subplot(1,3,1)\n",
    "sns.distplot(df['year'])\n",
    "plt.title('Car Year Distribution')\n",
    "\n",
    "plt.subplot(1,3,2)\n",
    "sns.distplot(df['odometer'])\n",
    "plt.title('Car Mileage Distribution')\n",
    "\n",
    "plt.subplot(1,3,3)\n",
    "sns.distplot(df['price'])\n",
    "plt.title('Transmission Distribution')"
   ]
  },
  {
   "cell_type": "markdown",
   "metadata": {},
   "source": [
    "# Percentile of Price\n",
    "The 1% value of the quantile or percentile of the price of a used car, the categorical data that indicate a value 1 for the regard of the manufacturer. The value 0 indicates that the item does not fall within the manufacturer's warranty.  "
   ]
  },
  {
   "cell_type": "code",
   "execution_count": 222,
   "metadata": {},
   "outputs": [],
   "source": [
    "# we can deal with the problem easily by removing 0.5%, or 1% of the problematic samples\n",
    "\n",
    "# Let's declare a variable that will be equal to the 99th percentile of the 'Price' variable\n",
    "q = df['price'].quantile(0.99)\n",
    "\n",
    "# Then we can create a new df, with the condition that all prices must be below the 99 percentile of 'Price'\n",
    "data_1 = df[df['price']<q]\n"
   ]
  },
  {
   "cell_type": "markdown",
   "metadata": {},
   "source": [
    "# The Probability  Distribution\n",
    "The probability of car price and mileage distributions are both skewed to the right, with a majority on the price value of $10,000 and a mileage range of 100,000 to 150,000."
   ]
  },
  {
   "cell_type": "code",
   "execution_count": 223,
   "metadata": {},
   "outputs": [],
   "source": [
    "#check the PDF once again\n",
    "\n",
    "# plt.figure(figsize=[11,5])\n",
    "# sns.distplot(data_1['price'])\n",
    "# plt.title('Car Price Distribution')"
   ]
  },
  {
   "cell_type": "code",
   "execution_count": 224,
   "metadata": {},
   "outputs": [],
   "source": [
    "#Now we can treat the other numerical variables outlier in a similar way\n",
    "\n",
    "# sns.distplot(df['odometer'])\n",
    "# plt.title('Car Mileage Distribution')"
   ]
  },
  {
   "cell_type": "code",
   "execution_count": 225,
   "metadata": {},
   "outputs": [],
   "source": [
    "# #Scatter Plot of independent variables vs dependent variables\n",
    "\n",
    "# plt.figure(figsize=[20,7])\n",
    "# plt.subplot(1,3,1)\n",
    "# plt.title(\"Price and Year\")\n",
    "# sns.scatterplot(x='year',y='price',data=df)\n",
    "\n",
    "# plt.subplot(1,3,2)\n",
    "# plt.title(\"Price and Mileage\")\n",
    "# sns.scatterplot(x='price',y='odometer',data=df)"
   ]
  },
  {
   "cell_type": "markdown",
   "metadata": {},
   "source": [
    "### Modeling\n",
    "\n",
    "With your (almost?) final dataset in hand, it is now time to build some models.  Here, you should build a number of different regression models with the price as the target.  In building your models, you should explore different parameters and be sure to cross-validate your findings."
   ]
  },
  {
   "cell_type": "markdown",
   "metadata": {},
   "source": [
    "# i. The data values location with split function\n",
    "using the split function, the data location of values and its shape"
   ]
  },
  {
   "cell_type": "code",
   "execution_count": 226,
   "metadata": {},
   "outputs": [],
   "source": [
    "#pd.DataFrame(X)\n",
    "X = df.iloc[:, :-1].values\n",
    "y = df.iloc[:, -1].values\n",
    "X_train, X_test, y_train, y_test = train_test_split(X, y, test_size = 0.2, random_state = 22)\n",
    "\n",
    "# print(X_train.shape)\n",
    "# print(X_test.shape)"
   ]
  },
  {
   "cell_type": "markdown",
   "metadata": {},
   "source": [
    "# ii. the fit and predict of the split \n",
    "\n",
    "The given elements show the different parameters have positive corerelations which maximizes their split variables to higher correlate to each other in the LinearRegression of the data with overfitting and prediction values of it. \n",
    "it shows the LinearRegression different parameters of decent corerelation to each other."
   ]
  },
  {
   "cell_type": "code",
   "execution_count": 227,
   "metadata": {},
   "outputs": [
    {
     "data": {
      "text/plain": [
       "array([0.99290509, 0.9864269 , 0.99150016, ..., 0.00394563, 0.0010141 ,\n",
       "       0.0027926 ])"
      ]
     },
     "execution_count": 227,
     "metadata": {},
     "output_type": "execute_result"
    }
   ],
   "source": [
    "# #df['ford'] = df['ford'].str.replace(' ', '').astype(float)\n",
    "# df.convert_dtypes()\n",
    "\n",
    "regressor = LinearRegression()\n",
    "regressor.fit(X_train, y_train)\n",
    "regressor.predict(X)\n"
   ]
  },
  {
   "cell_type": "markdown",
   "metadata": {},
   "source": [
    "# iii. the proportion of the variance bewtween the attributes \n",
    "The R2 score, also known as the Coefficient of Determination, is used to measure a linear regression.\n",
    "The percentage of variance in the output dependent feature that can be predicted based on the input independent variable.Our score is 0.97,showing that the model has predicted almost perfect. "
   ]
  },
  {
   "cell_type": "code",
   "execution_count": 228,
   "metadata": {},
   "outputs": [
    {
     "data": {
      "text/plain": [
       "0.97039007936473"
      ]
     },
     "execution_count": 228,
     "metadata": {},
     "output_type": "execute_result"
    }
   ],
   "source": [
    "#Building and training the model\n",
    "from sklearn.metrics import r2_score\n",
    "model = LinearRegression()\n",
    "model.fit(X_train, y_train)\n",
    "predictions = model.predict(X_test)\n",
    "# test_preds = model.predict(X_test)\n",
    "# train_preds = model.predict(X_train)\n",
    "score = r2_score(y_test, predictions)\n",
    "score"
   ]
  },
  {
   "cell_type": "markdown",
   "metadata": {},
   "source": []
  },
  {
   "cell_type": "markdown",
   "metadata": {},
   "source": [
    "\n",
    "# ii. higher degree\n",
    "The  higher-order models have higher degree polynomial features. A transformer is a device that takes a collection of existing features and outputs new ones.the fit-model of the price attribute given in the array below with squared, and cubic values"
   ]
  },
  {
   "cell_type": "code",
   "execution_count": 229,
   "metadata": {},
   "outputs": [],
   "source": [
    "# poly_transform = PolynomialFeatures(degree = 3, include_bias=False)\n",
    "# poly_transform.fit_transform(df[['price']])"
   ]
  },
  {
   "cell_type": "code",
   "execution_count": 230,
   "metadata": {
    "scrolled": true
   },
   "outputs": [],
   "source": [
    "# # the data frame the three features shown below as the squared, and cubic value of the fit values\n",
    "# pd.DataFrame(poly_transform.fit_transform(df[['price']]))"
   ]
  },
  {
   "cell_type": "markdown",
   "metadata": {},
   "source": [
    "# B. Pipeline with Coefficients & Intercept of Parameters\n",
    "\n",
    "Using the nonlinear model's pipeline to determine overfitting of the parameters. The cofficients are used to retrieve a specific section of the pipeline by using the pipeline's named steps characteristics and the linear regression model's supplied access.\n",
    "\n",
    "In any parameter of the model, there is always an intercept. We have three coefficients in the specified four parameters, and there is only one intercept that fits all of them completely."
   ]
  },
  {
   "cell_type": "code",
   "execution_count": 231,
   "metadata": {},
   "outputs": [],
   "source": [
    "# pipe_model = Pipeline([('price_transform',PolynomialFeatures(degree = 3, include_bias=False)),\n",
    "#                       ('price_regression', LinearRegression())])\n",
    "# pipe_model.fit(df[['price']], df['odometer'])"
   ]
  },
  {
   "cell_type": "code",
   "execution_count": 232,
   "metadata": {},
   "outputs": [],
   "source": [
    "# pipe_model.named_steps['price_regression'].coef_"
   ]
  },
  {
   "cell_type": "code",
   "execution_count": 233,
   "metadata": {},
   "outputs": [],
   "source": [
    "# pipe_model.named_steps['price_regression'].intercept_"
   ]
  },
  {
   "cell_type": "markdown",
   "metadata": {},
   "source": [
    "# C.\n",
    "Take a n=1000 sample and look at the plot closely. Vehicles from the years 2000-2005 have a cheaper price and a higher odometer, while vehicles from the year 2020 have a higher price and a lower odometer value."
   ]
  },
  {
   "cell_type": "code",
   "execution_count": 234,
   "metadata": {
    "scrolled": true
   },
   "outputs": [],
   "source": [
    "df_sample = df.sample(10000)\n",
    "#pipe_model.predict([[100]])\n",
    "\n",
    "# px.scatter(df_sample, x='price', y='odometer', color='year')"
   ]
  },
  {
   "cell_type": "code",
   "execution_count": null,
   "metadata": {},
   "outputs": [],
   "source": []
  },
  {
   "cell_type": "markdown",
   "metadata": {},
   "source": [
    "# D.\n",
    "The shuffling model's categorical field, the Mean Squared Error(MSE) prediction of the price vehicle's training_set and dev_set parameters The increase in validation error is attributable to an increase in parameter variance. The price prediction model of training_set and dev_set differs significantly.these two prediction models shown the cross-validation of the datasets in which the data can be divided\n"
   ]
  },
  {
   "cell_type": "code",
   "execution_count": 235,
   "metadata": {},
   "outputs": [],
   "source": [
    "# from sklearn.utils import shuffle\n",
    "# training_set, dev_set = np.split(shuffle(df_sample), [5000])\n",
    "# df_model = Pipeline([('price', PolynomialFeatures(degree=2)),\n",
    "#                     ('odometer', LinearRegression(fit_intercept=False))])\n",
    "# df_model.fit(training_set, dev_set[['price']])\n",
    "\n",
    "# mean_squared_error(df_model.predict(training_set), dev_set[['price']])\n"
   ]
  },
  {
   "cell_type": "code",
   "execution_count": 236,
   "metadata": {},
   "outputs": [],
   "source": [
    "# fit model of the linear regression using the coefficients attribute \n",
    "\n",
    "# df_model_1 = LinearRegression().fit(training_set, dev_set)\n",
    "# df_model_1.coef_"
   ]
  },
  {
   "cell_type": "markdown",
   "metadata": {},
   "source": [
    "### Evaluation\n",
    "\n",
    "With some modeling accomplished, we aim to reflect on what we identify as a high quality model and what we are able to learn from this.  We should review our business objective and explore how well we can provide meaningful insight on drivers of used car prices.  Your goal now is to distill your findings and determine whether the earlier phases need revisitation and adjustment or if you have information of value to bring back to your client."
   ]
  },
  {
   "cell_type": "markdown",
   "metadata": {},
   "source": [
    "# i. Overall measurement\n",
    "When we consider the mean price of 16876.05, the standard deviation of 12538.20, the maximum and minimum price ranges of 1.0 to 55890.0, and the percentile or quantile price of cars ranges from 6800.0 to 25769.0, which indicates the upper and lower quarters of the data, the percentile or quantile price of cars ranges from 6800.0 to 25769.0. This provides the numeric values of the data overview and determines the numerical data of the description for each column. Overall, the mean of this data was skewed to the right and had quantile values that were greater than the median."
   ]
  },
  {
   "cell_type": "code",
   "execution_count": 237,
   "metadata": {},
   "outputs": [
    {
     "data": {
      "text/html": [
       "<div>\n",
       "<style scoped>\n",
       "    .dataframe tbody tr th:only-of-type {\n",
       "        vertical-align: middle;\n",
       "    }\n",
       "\n",
       "    .dataframe tbody tr th {\n",
       "        vertical-align: top;\n",
       "    }\n",
       "\n",
       "    .dataframe thead th {\n",
       "        text-align: right;\n",
       "    }\n",
       "</style>\n",
       "<table border=\"1\" class=\"dataframe\">\n",
       "  <thead>\n",
       "    <tr style=\"text-align: right;\">\n",
       "      <th></th>\n",
       "      <th>odometer</th>\n",
       "      <th>year</th>\n",
       "      <th>price</th>\n",
       "      <th>manufacturer_alfa-romeo</th>\n",
       "      <th>manufacturer_aston-martin</th>\n",
       "      <th>manufacturer_audi</th>\n",
       "      <th>manufacturer_bmw</th>\n",
       "      <th>manufacturer_buick</th>\n",
       "      <th>manufacturer_cadillac</th>\n",
       "      <th>manufacturer_chevrolet</th>\n",
       "      <th>...</th>\n",
       "      <th>manufacturer_tesla</th>\n",
       "      <th>manufacturer_toyota</th>\n",
       "      <th>manufacturer_volkswagen</th>\n",
       "      <th>manufacturer_volvo</th>\n",
       "      <th>cylinders_12 cylinders</th>\n",
       "      <th>cylinders_3 cylinders</th>\n",
       "      <th>cylinders_4 cylinders</th>\n",
       "      <th>cylinders_5 cylinders</th>\n",
       "      <th>cylinders_6 cylinders</th>\n",
       "      <th>cylinders_8 cylinders</th>\n",
       "    </tr>\n",
       "  </thead>\n",
       "  <tbody>\n",
       "    <tr>\n",
       "      <th>count</th>\n",
       "      <td>221075.000000</td>\n",
       "      <td>221075.000000</td>\n",
       "      <td>221075.000000</td>\n",
       "      <td>221075.000000</td>\n",
       "      <td>221075.000000</td>\n",
       "      <td>221075.000000</td>\n",
       "      <td>221075.000000</td>\n",
       "      <td>221075.000000</td>\n",
       "      <td>221075.000000</td>\n",
       "      <td>221075.000000</td>\n",
       "      <td>...</td>\n",
       "      <td>221075.000000</td>\n",
       "      <td>221075.000000</td>\n",
       "      <td>221075.000000</td>\n",
       "      <td>221075.000000</td>\n",
       "      <td>221075.000000</td>\n",
       "      <td>221075.000000</td>\n",
       "      <td>221075.000000</td>\n",
       "      <td>221075.000000</td>\n",
       "      <td>221075.000000</td>\n",
       "      <td>221075.000000</td>\n",
       "    </tr>\n",
       "    <tr>\n",
       "      <th>mean</th>\n",
       "      <td>97969.351754</td>\n",
       "      <td>2012.085713</td>\n",
       "      <td>16876.050200</td>\n",
       "      <td>0.000398</td>\n",
       "      <td>0.000045</td>\n",
       "      <td>0.016524</td>\n",
       "      <td>0.031967</td>\n",
       "      <td>0.012489</td>\n",
       "      <td>0.014524</td>\n",
       "      <td>0.135832</td>\n",
       "      <td>...</td>\n",
       "      <td>0.000222</td>\n",
       "      <td>0.090558</td>\n",
       "      <td>0.020681</td>\n",
       "      <td>0.006052</td>\n",
       "      <td>0.000308</td>\n",
       "      <td>0.002189</td>\n",
       "      <td>0.326704</td>\n",
       "      <td>0.006695</td>\n",
       "      <td>0.390917</td>\n",
       "      <td>0.267430</td>\n",
       "    </tr>\n",
       "    <tr>\n",
       "      <th>std</th>\n",
       "      <td>59342.355047</td>\n",
       "      <td>5.320844</td>\n",
       "      <td>12538.204222</td>\n",
       "      <td>0.019947</td>\n",
       "      <td>0.006725</td>\n",
       "      <td>0.127479</td>\n",
       "      <td>0.175911</td>\n",
       "      <td>0.111054</td>\n",
       "      <td>0.119639</td>\n",
       "      <td>0.342611</td>\n",
       "      <td>...</td>\n",
       "      <td>0.014886</td>\n",
       "      <td>0.286979</td>\n",
       "      <td>0.142314</td>\n",
       "      <td>0.077561</td>\n",
       "      <td>0.017536</td>\n",
       "      <td>0.046739</td>\n",
       "      <td>0.469009</td>\n",
       "      <td>0.081546</td>\n",
       "      <td>0.487957</td>\n",
       "      <td>0.442619</td>\n",
       "    </tr>\n",
       "    <tr>\n",
       "      <th>min</th>\n",
       "      <td>0.000000</td>\n",
       "      <td>1997.000000</td>\n",
       "      <td>1.000000</td>\n",
       "      <td>0.000000</td>\n",
       "      <td>0.000000</td>\n",
       "      <td>0.000000</td>\n",
       "      <td>0.000000</td>\n",
       "      <td>0.000000</td>\n",
       "      <td>0.000000</td>\n",
       "      <td>0.000000</td>\n",
       "      <td>...</td>\n",
       "      <td>0.000000</td>\n",
       "      <td>0.000000</td>\n",
       "      <td>0.000000</td>\n",
       "      <td>0.000000</td>\n",
       "      <td>0.000000</td>\n",
       "      <td>0.000000</td>\n",
       "      <td>0.000000</td>\n",
       "      <td>0.000000</td>\n",
       "      <td>0.000000</td>\n",
       "      <td>0.000000</td>\n",
       "    </tr>\n",
       "    <tr>\n",
       "      <th>25%</th>\n",
       "      <td>48485.500000</td>\n",
       "      <td>2008.000000</td>\n",
       "      <td>6800.000000</td>\n",
       "      <td>0.000000</td>\n",
       "      <td>0.000000</td>\n",
       "      <td>0.000000</td>\n",
       "      <td>0.000000</td>\n",
       "      <td>0.000000</td>\n",
       "      <td>0.000000</td>\n",
       "      <td>0.000000</td>\n",
       "      <td>...</td>\n",
       "      <td>0.000000</td>\n",
       "      <td>0.000000</td>\n",
       "      <td>0.000000</td>\n",
       "      <td>0.000000</td>\n",
       "      <td>0.000000</td>\n",
       "      <td>0.000000</td>\n",
       "      <td>0.000000</td>\n",
       "      <td>0.000000</td>\n",
       "      <td>0.000000</td>\n",
       "      <td>0.000000</td>\n",
       "    </tr>\n",
       "    <tr>\n",
       "      <th>50%</th>\n",
       "      <td>95000.000000</td>\n",
       "      <td>2013.000000</td>\n",
       "      <td>13500.000000</td>\n",
       "      <td>0.000000</td>\n",
       "      <td>0.000000</td>\n",
       "      <td>0.000000</td>\n",
       "      <td>0.000000</td>\n",
       "      <td>0.000000</td>\n",
       "      <td>0.000000</td>\n",
       "      <td>0.000000</td>\n",
       "      <td>...</td>\n",
       "      <td>0.000000</td>\n",
       "      <td>0.000000</td>\n",
       "      <td>0.000000</td>\n",
       "      <td>0.000000</td>\n",
       "      <td>0.000000</td>\n",
       "      <td>0.000000</td>\n",
       "      <td>0.000000</td>\n",
       "      <td>0.000000</td>\n",
       "      <td>0.000000</td>\n",
       "      <td>0.000000</td>\n",
       "    </tr>\n",
       "    <tr>\n",
       "      <th>75%</th>\n",
       "      <td>139220.500000</td>\n",
       "      <td>2016.000000</td>\n",
       "      <td>25769.500000</td>\n",
       "      <td>0.000000</td>\n",
       "      <td>0.000000</td>\n",
       "      <td>0.000000</td>\n",
       "      <td>0.000000</td>\n",
       "      <td>0.000000</td>\n",
       "      <td>0.000000</td>\n",
       "      <td>0.000000</td>\n",
       "      <td>...</td>\n",
       "      <td>0.000000</td>\n",
       "      <td>0.000000</td>\n",
       "      <td>0.000000</td>\n",
       "      <td>0.000000</td>\n",
       "      <td>0.000000</td>\n",
       "      <td>0.000000</td>\n",
       "      <td>1.000000</td>\n",
       "      <td>0.000000</td>\n",
       "      <td>1.000000</td>\n",
       "      <td>1.000000</td>\n",
       "    </tr>\n",
       "    <tr>\n",
       "      <th>max</th>\n",
       "      <td>279300.000000</td>\n",
       "      <td>2022.000000</td>\n",
       "      <td>55890.000000</td>\n",
       "      <td>1.000000</td>\n",
       "      <td>1.000000</td>\n",
       "      <td>1.000000</td>\n",
       "      <td>1.000000</td>\n",
       "      <td>1.000000</td>\n",
       "      <td>1.000000</td>\n",
       "      <td>1.000000</td>\n",
       "      <td>...</td>\n",
       "      <td>1.000000</td>\n",
       "      <td>1.000000</td>\n",
       "      <td>1.000000</td>\n",
       "      <td>1.000000</td>\n",
       "      <td>1.000000</td>\n",
       "      <td>1.000000</td>\n",
       "      <td>1.000000</td>\n",
       "      <td>1.000000</td>\n",
       "      <td>1.000000</td>\n",
       "      <td>1.000000</td>\n",
       "    </tr>\n",
       "  </tbody>\n",
       "</table>\n",
       "<p>8 rows × 48 columns</p>\n",
       "</div>"
      ],
      "text/plain": [
       "            odometer           year          price  manufacturer_alfa-romeo  \\\n",
       "count  221075.000000  221075.000000  221075.000000            221075.000000   \n",
       "mean    97969.351754    2012.085713   16876.050200                 0.000398   \n",
       "std     59342.355047       5.320844   12538.204222                 0.019947   \n",
       "min         0.000000    1997.000000       1.000000                 0.000000   \n",
       "25%     48485.500000    2008.000000    6800.000000                 0.000000   \n",
       "50%     95000.000000    2013.000000   13500.000000                 0.000000   \n",
       "75%    139220.500000    2016.000000   25769.500000                 0.000000   \n",
       "max    279300.000000    2022.000000   55890.000000                 1.000000   \n",
       "\n",
       "       manufacturer_aston-martin  manufacturer_audi  manufacturer_bmw  \\\n",
       "count              221075.000000      221075.000000     221075.000000   \n",
       "mean                    0.000045           0.016524          0.031967   \n",
       "std                     0.006725           0.127479          0.175911   \n",
       "min                     0.000000           0.000000          0.000000   \n",
       "25%                     0.000000           0.000000          0.000000   \n",
       "50%                     0.000000           0.000000          0.000000   \n",
       "75%                     0.000000           0.000000          0.000000   \n",
       "max                     1.000000           1.000000          1.000000   \n",
       "\n",
       "       manufacturer_buick  manufacturer_cadillac  manufacturer_chevrolet  ...  \\\n",
       "count       221075.000000          221075.000000           221075.000000  ...   \n",
       "mean             0.012489               0.014524                0.135832  ...   \n",
       "std              0.111054               0.119639                0.342611  ...   \n",
       "min              0.000000               0.000000                0.000000  ...   \n",
       "25%              0.000000               0.000000                0.000000  ...   \n",
       "50%              0.000000               0.000000                0.000000  ...   \n",
       "75%              0.000000               0.000000                0.000000  ...   \n",
       "max              1.000000               1.000000                1.000000  ...   \n",
       "\n",
       "       manufacturer_tesla  manufacturer_toyota  manufacturer_volkswagen  \\\n",
       "count       221075.000000        221075.000000            221075.000000   \n",
       "mean             0.000222             0.090558                 0.020681   \n",
       "std              0.014886             0.286979                 0.142314   \n",
       "min              0.000000             0.000000                 0.000000   \n",
       "25%              0.000000             0.000000                 0.000000   \n",
       "50%              0.000000             0.000000                 0.000000   \n",
       "75%              0.000000             0.000000                 0.000000   \n",
       "max              1.000000             1.000000                 1.000000   \n",
       "\n",
       "       manufacturer_volvo  cylinders_12 cylinders  cylinders_3 cylinders  \\\n",
       "count       221075.000000           221075.000000          221075.000000   \n",
       "mean             0.006052                0.000308               0.002189   \n",
       "std              0.077561                0.017536               0.046739   \n",
       "min              0.000000                0.000000               0.000000   \n",
       "25%              0.000000                0.000000               0.000000   \n",
       "50%              0.000000                0.000000               0.000000   \n",
       "75%              0.000000                0.000000               0.000000   \n",
       "max              1.000000                1.000000               1.000000   \n",
       "\n",
       "       cylinders_4 cylinders  cylinders_5 cylinders  cylinders_6 cylinders  \\\n",
       "count          221075.000000          221075.000000          221075.000000   \n",
       "mean                0.326704               0.006695               0.390917   \n",
       "std                 0.469009               0.081546               0.487957   \n",
       "min                 0.000000               0.000000               0.000000   \n",
       "25%                 0.000000               0.000000               0.000000   \n",
       "50%                 0.000000               0.000000               0.000000   \n",
       "75%                 1.000000               0.000000               1.000000   \n",
       "max                 1.000000               1.000000               1.000000   \n",
       "\n",
       "       cylinders_8 cylinders  \n",
       "count          221075.000000  \n",
       "mean                0.267430  \n",
       "std                 0.442619  \n",
       "min                 0.000000  \n",
       "25%                 0.000000  \n",
       "50%                 0.000000  \n",
       "75%                 1.000000  \n",
       "max                 1.000000  \n",
       "\n",
       "[8 rows x 48 columns]"
      ]
     },
     "execution_count": 237,
     "metadata": {},
     "output_type": "execute_result"
    }
   ],
   "source": [
    "df.describe()"
   ]
  },
  {
   "cell_type": "code",
   "execution_count": 238,
   "metadata": {},
   "outputs": [],
   "source": [
    "# poly_reg = PolynomialFeatures(degree = 3)\n",
    "# X_poly = poly_reg.fit_transform(X)\n",
    "# lin_reg_2 = LinearRegression()\n",
    "# lin_reg_2.fit(X_poly, y)\n",
    "pol_reg = PolynomialFeatures(degree=3, include_bias=False)\n",
    "pol = pol_reg.fit(X_train, y_train)\n"
   ]
  },
  {
   "cell_type": "markdown",
   "metadata": {},
   "source": [
    "# ii. Evaluate Sample\n",
    "Take a random n=1000 sample and evaluate the data distribution to see if it reflects the entire dataset we examined at."
   ]
  },
  {
   "cell_type": "code",
   "execution_count": 239,
   "metadata": {},
   "outputs": [],
   "source": [
    "#df_sample.describe()"
   ]
  },
  {
   "cell_type": "markdown",
   "metadata": {},
   "source": [
    "# Evaluate variables\n",
    "The box plot is a statistical representation of a variable's distribution across its quartiles. The lower and upper quartiles are represented by the box's ends, while the median is represented by a line inside the box. First, the odometer variable has a bigger quartile distribution, ranging to more than 250000, therefore the median line is higher; second, the price variable has a modest quartile distribution, while the rest of the variables seems to be non-existent.\n",
    "\n",
    "So, when we evaluate the findings to the client, the odometer and price are the most important factors in the used car representation, as they have a wider variation than the other variables."
   ]
  },
  {
   "cell_type": "code",
   "execution_count": 240,
   "metadata": {},
   "outputs": [],
   "source": [
    "# figsize=[20,20]\n",
    "\n",
    "# px.box(df_sample)"
   ]
  },
  {
   "cell_type": "markdown",
   "metadata": {},
   "source": [
    "### Deployment\n",
    "\n",
    "Now that we've settled on our models and findings, it is time to deliver the information to the client.  You should organize your work as a basic report that details your primary findings.  Keep in mind that your audience is a group of used car dealers interested in fine tuning their inventory."
   ]
  },
  {
   "cell_type": "markdown",
   "metadata": {},
   "source": [
    "# sample of a used car \n",
    "The graph below shows that used cars have more and are more widely distributed on higher mileage, with the mean vehicle costs in the range of $10,000 $20,000, and the majority of vehicles in the range of 100,000 to 150,000.\n",
    "we found out that based on our analysis,the used car buyers mainly care about odometer,year, & cylinder, followed by manufacturing companies."
   ]
  },
  {
   "cell_type": "code",
   "execution_count": 241,
   "metadata": {},
   "outputs": [],
   "source": [
    "# plot using group of used car based the price\n",
    "# px.scatter(df_sample, x='odometer', y='price', color = 'year')"
   ]
  }
 ],
 "metadata": {
  "kernelspec": {
   "display_name": "Python 3 (ipykernel)",
   "language": "python",
   "name": "python3"
  },
  "language_info": {
   "codemirror_mode": {
    "name": "ipython",
    "version": 3
   },
   "file_extension": ".py",
   "mimetype": "text/x-python",
   "name": "python",
   "nbconvert_exporter": "python",
   "pygments_lexer": "ipython3",
   "version": "3.9.7"
  },
  "widgets": {
   "application/vnd.jupyter.widget-state+json": {
    "state": {},
    "version_major": 2,
    "version_minor": 0
   }
  }
 },
 "nbformat": 4,
 "nbformat_minor": 4
}
